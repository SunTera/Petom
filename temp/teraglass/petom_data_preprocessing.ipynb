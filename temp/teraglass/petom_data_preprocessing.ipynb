{
  "nbformat": 4,
  "nbformat_minor": 0,
  "metadata": {
    "colab": {
      "name": "\bpetom_data_preprocessing.ipynb",
      "provenance": [],
      "collapsed_sections": [],
      "toc_visible": true
    },
    "kernelspec": {
      "name": "python3",
      "display_name": "Python 3"
    },
    "language_info": {
      "name": "python"
    },
    "gpuClass": "standard",
    "accelerator": "GPU"
  },
  "cells": [
    {
      "cell_type": "markdown",
      "source": [
        "# 구글 드라이브 마운트"
      ],
      "metadata": {
        "id": "BxUCaMfJpS9u"
      }
    },
    {
      "cell_type": "code",
      "source": [
        "from google.colab import drive\n",
        "drive.mount('/gdrive')"
      ],
      "metadata": {
        "colab": {
          "base_uri": "https://localhost:8080/"
        },
        "id": "-NqLoWS5hgJC",
        "outputId": "03a7900e-82fc-4b54-e2af-e062c0216e0d"
      },
      "execution_count": 1,
      "outputs": [
        {
          "output_type": "stream",
          "name": "stdout",
          "text": [
            "Mounted at /gdrive\n"
          ]
        }
      ]
    },
    {
      "cell_type": "markdown",
      "source": [
        "# 구글 드라이브에서 train, validation 압축파일 content 폴더로 카피 "
      ],
      "metadata": {
        "id": "_nI0YfPspVtg"
      }
    },
    {
      "cell_type": "code",
      "source": [
        "cp /gdrive/MyDrive/Petom/train.zip ./\n"
      ],
      "metadata": {
        "id": "gUa9OdlViBx1"
      },
      "execution_count": 4,
      "outputs": []
    },
    {
      "cell_type": "code",
      "source": [
        "cp /gdrive/MyDrive/Petom/validation.zip ./"
      ],
      "metadata": {
        "id": "oRwb8trHpRyw"
      },
      "execution_count": 5,
      "outputs": []
    },
    {
      "cell_type": "markdown",
      "source": [
        "# train, validation 각각 폴더명으로 사용해 압축 풀기"
      ],
      "metadata": {
        "id": "FHk4Kbnipcvx"
      }
    },
    {
      "cell_type": "code",
      "source": [
        "!unzip train.zip -d /content/train\n",
        "!unzip validation.zip -d /content/validation"
      ],
      "metadata": {
        "id": "iReDrlkmi_P7"
      },
      "execution_count": null,
      "outputs": []
    },
    {
      "cell_type": "markdown",
      "source": [
        "# cat, dog 폴더분리해서 train, validation 폴더 바로 밑에 오도록 path 변경\n",
        "- 현미경사진(micro) : train_micro, validation_micro을 합쳐 micro.zip으로 따로 압축"
      ],
      "metadata": {
        "id": "o5b7uTwyuSl9"
      }
    },
    {
      "cell_type": "code",
      "source": [
        "!tar -cvf train.zip /content/train"
      ],
      "metadata": {
        "id": "qp6Q6_X-0BpC"
      },
      "execution_count": null,
      "outputs": []
    },
    {
      "cell_type": "code",
      "source": [
        "!tar -cvf validation.zip /content/validation"
      ],
      "metadata": {
        "id": "vFTx1Msgxxzm"
      },
      "execution_count": null,
      "outputs": []
    },
    {
      "cell_type": "code",
      "source": [
        "!tar -cvf micro.zip /content/micro"
      ],
      "metadata": {
        "id": "mgakfdslydAc"
      },
      "execution_count": null,
      "outputs": []
    },
    {
      "cell_type": "code",
      "source": [
        "import cv2\n",
        "import matplotlib.pyplot as plt\n",
        "import glob\n"
      ],
      "metadata": {
        "id": "D_oW1497jCcB"
      },
      "execution_count": null,
      "outputs": []
    },
    {
      "cell_type": "markdown",
      "source": [
        "# json 파일만 모아서 tar 압축"
      ],
      "metadata": {
        "id": "88IH2S9Jm5zd"
      }
    },
    {
      "cell_type": "code",
      "source": [
        "%cd /content/train/dog/"
      ],
      "metadata": {
        "colab": {
          "base_uri": "https://localhost:8080/"
        },
        "id": "-8zRtdTj3JW_",
        "outputId": "c7742a32-3d4c-432f-8402-170d3acf985d"
      },
      "execution_count": 373,
      "outputs": [
        {
          "output_type": "stream",
          "name": "stdout",
          "text": [
            "/content/train/dog\n"
          ]
        }
      ]
    },
    {
      "cell_type": "code",
      "source": [
        "%cd /content/train/dog/A3"
      ],
      "metadata": {
        "colab": {
          "base_uri": "https://localhost:8080/"
        },
        "id": "aX_e_nCaDdA7",
        "outputId": "99fad694-2859-4128-9a04-a07ab31e2128"
      },
      "execution_count": 398,
      "outputs": [
        {
          "output_type": "stream",
          "name": "stdout",
          "text": [
            "/content/train/dog/A3\n"
          ]
        }
      ]
    },
    {
      "cell_type": "code",
      "source": [
        "%mkdir /content/train/dog/train_dog_A3_json_files"
      ],
      "metadata": {
        "id": "q7OmhtO1DP2O"
      },
      "execution_count": 397,
      "outputs": []
    },
    {
      "cell_type": "code",
      "source": [
        "%ls /content/train/dog/train_dog_A6_json_files -al"
      ],
      "metadata": {
        "id": "nFqBxGL2E3G-"
      },
      "execution_count": null,
      "outputs": []
    },
    {
      "cell_type": "code",
      "source": [
        "%cp *.json /content/train/dog/train_dog_A3_json_files -r"
      ],
      "metadata": {
        "id": "CXeT_d2Eddgk"
      },
      "execution_count": 399,
      "outputs": []
    },
    {
      "cell_type": "code",
      "source": [
        "%cd ../"
      ],
      "metadata": {
        "colab": {
          "base_uri": "https://localhost:8080/"
        },
        "id": "yow3lgUpCY5u",
        "outputId": "cba90cb7-6fd3-44d9-b335-99668807a7f3"
      },
      "execution_count": 400,
      "outputs": [
        {
          "output_type": "stream",
          "name": "stdout",
          "text": [
            "/content/train/dog\n"
          ]
        }
      ]
    },
    {
      "cell_type": "code",
      "source": [
        "!tar -cvf train_dog_A1_json_files.zip /content/train/dog/train_dog_A1_json_files\n",
        "!tar -cvf train_dog_A2_json_files.zip /content/train/dog/train_dog_A2_json_files\n",
        "!tar -cvf train_dog_A3_json_files.zip /content/train/dog/train_dog_A3_json_files\n",
        "!tar -cvf train_dog_A4_json_files.zip /content/train/dog/train_dog_A4_json_files\n",
        "!tar -cvf train_dog_A5_json_files.zip /content/train/dog/train_dog_A5_json_files\n",
        "!tar -cvf train_dog_A6_json_files.zip /content/train/dog/train_dog_A6_json_files"
      ],
      "metadata": {
        "id": "w6kSQzxZekfD"
      },
      "execution_count": null,
      "outputs": []
    },
    {
      "cell_type": "code",
      "source": [
        "!tar -cvf val_dog_A6_json_files.zip /content/validation/dog/val_dog_A6_json_files"
      ],
      "metadata": {
        "id": "IlanqcTRBJnm"
      },
      "execution_count": null,
      "outputs": []
    },
    {
      "cell_type": "markdown",
      "source": [
        "# json 파일 읽기"
      ],
      "metadata": {
        "id": "6-asJrzz8Fft"
      }
    },
    {
      "cell_type": "code",
      "source": [
        "# json 파일 프린트\n",
        "from glob import glob\n",
        "for filename in glob('*.json'):\n",
        "  print(filename)"
      ],
      "metadata": {
        "id": "yAILao2Z6Fle"
      },
      "execution_count": null,
      "outputs": []
    },
    {
      "cell_type": "code",
      "source": [
        "# 각 파일의 shape, head 출력\n",
        "from IPython.display import display\n",
        "import pandas as pd\n",
        "import json\n",
        "\n",
        "data = json.load(open('IMG_C_A2_202980.json'))\n",
        "\n",
        "# df = pd.read_json('IMG_C_A2_202980.json')\n",
        "# print(filename, df.shape)\n",
        "# display(df.head())\n",
        "data    "
      ],
      "metadata": {
        "id": "pepVKBAa8V22"
      },
      "execution_count": null,
      "outputs": []
    },
    {
      "cell_type": "code",
      "source": [
        "metaData = data['metaData']\n",
        "metaData"
      ],
      "metadata": {
        "colab": {
          "base_uri": "https://localhost:8080/"
        },
        "id": "HG3O55vQ_KQT",
        "outputId": "2b835ea2-f361-4dd2-f89b-2c8683daa35b"
      },
      "execution_count": 55,
      "outputs": [
        {
          "output_type": "execute_result",
          "data": {
            "text/plain": [
              "{'Path': '유증상',\n",
              " 'Raw data ID': 'IMG_C_A2_18_202980.jpg',\n",
              " 'age': '10',\n",
              " 'breed': '코리안숏헤어',\n",
              " 'camera type': 'IMG',\n",
              " 'copyrighter': '㈜미소정보기술',\n",
              " 'date': '2021-12-15',\n",
              " 'diagnosis': '',\n",
              " 'fileformat': 'jpg',\n",
              " 'gender': 'M',\n",
              " 'identifier': '피부질환',\n",
              " 'label_path': '/라벨링데이터/반려묘/피부/일반카메라/유증상/A2_비듬_각질_상피성잔고리',\n",
              " 'lesions': 'A2',\n",
              " 'region': 'B',\n",
              " 'resolution': '1920X1080',\n",
              " 'species': 'C',\n",
              " 'src_path': '/라벨링데이터/반려묘/피부/일반카메라/유증상/A2_비듬_각질_상피성잔고리',\n",
              " 'type': 'json'}"
            ]
          },
          "metadata": {},
          "execution_count": 55
        }
      ]
    },
    {
      "cell_type": "code",
      "source": [
        "metaData[\"Raw data ID\"]\n",
        "metaData['breed']\n",
        "metaData['age']\n",
        "metaData['gender']\n",
        "metaData['region']"
      ],
      "metadata": {
        "id": "UKrsmwzt-2Oz"
      },
      "execution_count": null,
      "outputs": []
    },
    {
      "cell_type": "markdown",
      "source": [
        "# 필요한 칼럼 추출해서 DataFrame -> csv"
      ],
      "metadata": {
        "id": "lHdNlf6eDCk8"
      }
    },
    {
      "cell_type": "markdown",
      "source": [
        "# validation csv 만드는 중\n",
        "- meta 정보 섞음"
      ],
      "metadata": {
        "id": "eFxuDFs3YmMp"
      }
    },
    {
      "cell_type": "code",
      "source": [
        "from collections import defaultdict\n",
        "\n",
        "meta_label = defaultdict(list)\n",
        "for filename in glob('*.json'):\n",
        "    data = json.load(open(filename))\n",
        "    meta_label[\"raw_data_ID\"].append(filename[:len(filename)-5])\n",
        "    meta_label[\"species\"].append(data['metaData'][\"species\"])\n",
        "    meta_label[\"lesions\"].append(data['metaData'][\"lesions\"])\n",
        "    meta_label[\"breed\"].append(data['metaData'][\"breed\"])\n",
        "    meta_label[\"age\"].append(data['metaData'][\"age\"])\n",
        "    meta_label[\"gender\"].append(data['metaData'][\"gender\"])\n",
        "    meta_label[\"region\"].append(data['metaData'][\"region\"])\n",
        "\n",
        "\n",
        "meta_label_dt = pd.DataFrame(meta_label)\n",
        "meta_label_dt.to_csv('/gdrive/MyDrive/Petom/val_cat_A2.csv')"
      ],
      "metadata": {
        "id": "IANbMjDnDLWc"
      },
      "execution_count": 185,
      "outputs": []
    },
    {
      "cell_type": "code",
      "source": [
        "meta_label_dt"
      ],
      "metadata": {
        "colab": {
          "base_uri": "https://localhost:8080/",
          "height": 424
        },
        "id": "8Ev0gRORZAVc",
        "outputId": "65e65705-20ae-42fa-ba95-834172196467"
      },
      "execution_count": 184,
      "outputs": [
        {
          "output_type": "execute_result",
          "data": {
            "text/plain": [
              "         raw_data_ID species lesions   breed age gender region\n",
              "0    IMG_C_A2_202872       C      A2  코리안숏헤어  10      M      H\n",
              "1    IMG_C_A2_202871       C      A2  코리안숏헤어   1      F      H\n",
              "2    IMG_C_A2_202797       C      A2    페르시안  11      M      L\n",
              "3    IMG_C_A2_202891       C      A2    페르시안  11      M      L\n",
              "4    IMG_C_A2_202898       C      A2   러시안블루   1      M      L\n",
              "..               ...     ...     ...     ...  ..    ...    ...\n",
              "333  IMG_C_A2_202762       C      A2  코리안숏헤어   4      F      L\n",
              "334  IMG_C_A2_203040       C      A2  코리안숏헤어  10      F      L\n",
              "335  IMG_C_A2_202957       C      A2  코리안숏헤어  11      F      L\n",
              "336  IMG_C_A2_202985       C      A2  코리안숏헤어   1      F      L\n",
              "337  IMG_C_A2_202980       C      A2  코리안숏헤어  10      M      B\n",
              "\n",
              "[338 rows x 7 columns]"
            ],
            "text/html": [
              "\n",
              "  <div id=\"df-81f68799-cc67-481e-b99e-1c7618519364\">\n",
              "    <div class=\"colab-df-container\">\n",
              "      <div>\n",
              "<style scoped>\n",
              "    .dataframe tbody tr th:only-of-type {\n",
              "        vertical-align: middle;\n",
              "    }\n",
              "\n",
              "    .dataframe tbody tr th {\n",
              "        vertical-align: top;\n",
              "    }\n",
              "\n",
              "    .dataframe thead th {\n",
              "        text-align: right;\n",
              "    }\n",
              "</style>\n",
              "<table border=\"1\" class=\"dataframe\">\n",
              "  <thead>\n",
              "    <tr style=\"text-align: right;\">\n",
              "      <th></th>\n",
              "      <th>raw_data_ID</th>\n",
              "      <th>species</th>\n",
              "      <th>lesions</th>\n",
              "      <th>breed</th>\n",
              "      <th>age</th>\n",
              "      <th>gender</th>\n",
              "      <th>region</th>\n",
              "    </tr>\n",
              "  </thead>\n",
              "  <tbody>\n",
              "    <tr>\n",
              "      <th>0</th>\n",
              "      <td>IMG_C_A2_202872</td>\n",
              "      <td>C</td>\n",
              "      <td>A2</td>\n",
              "      <td>코리안숏헤어</td>\n",
              "      <td>10</td>\n",
              "      <td>M</td>\n",
              "      <td>H</td>\n",
              "    </tr>\n",
              "    <tr>\n",
              "      <th>1</th>\n",
              "      <td>IMG_C_A2_202871</td>\n",
              "      <td>C</td>\n",
              "      <td>A2</td>\n",
              "      <td>코리안숏헤어</td>\n",
              "      <td>1</td>\n",
              "      <td>F</td>\n",
              "      <td>H</td>\n",
              "    </tr>\n",
              "    <tr>\n",
              "      <th>2</th>\n",
              "      <td>IMG_C_A2_202797</td>\n",
              "      <td>C</td>\n",
              "      <td>A2</td>\n",
              "      <td>페르시안</td>\n",
              "      <td>11</td>\n",
              "      <td>M</td>\n",
              "      <td>L</td>\n",
              "    </tr>\n",
              "    <tr>\n",
              "      <th>3</th>\n",
              "      <td>IMG_C_A2_202891</td>\n",
              "      <td>C</td>\n",
              "      <td>A2</td>\n",
              "      <td>페르시안</td>\n",
              "      <td>11</td>\n",
              "      <td>M</td>\n",
              "      <td>L</td>\n",
              "    </tr>\n",
              "    <tr>\n",
              "      <th>4</th>\n",
              "      <td>IMG_C_A2_202898</td>\n",
              "      <td>C</td>\n",
              "      <td>A2</td>\n",
              "      <td>러시안블루</td>\n",
              "      <td>1</td>\n",
              "      <td>M</td>\n",
              "      <td>L</td>\n",
              "    </tr>\n",
              "    <tr>\n",
              "      <th>...</th>\n",
              "      <td>...</td>\n",
              "      <td>...</td>\n",
              "      <td>...</td>\n",
              "      <td>...</td>\n",
              "      <td>...</td>\n",
              "      <td>...</td>\n",
              "      <td>...</td>\n",
              "    </tr>\n",
              "    <tr>\n",
              "      <th>333</th>\n",
              "      <td>IMG_C_A2_202762</td>\n",
              "      <td>C</td>\n",
              "      <td>A2</td>\n",
              "      <td>코리안숏헤어</td>\n",
              "      <td>4</td>\n",
              "      <td>F</td>\n",
              "      <td>L</td>\n",
              "    </tr>\n",
              "    <tr>\n",
              "      <th>334</th>\n",
              "      <td>IMG_C_A2_203040</td>\n",
              "      <td>C</td>\n",
              "      <td>A2</td>\n",
              "      <td>코리안숏헤어</td>\n",
              "      <td>10</td>\n",
              "      <td>F</td>\n",
              "      <td>L</td>\n",
              "    </tr>\n",
              "    <tr>\n",
              "      <th>335</th>\n",
              "      <td>IMG_C_A2_202957</td>\n",
              "      <td>C</td>\n",
              "      <td>A2</td>\n",
              "      <td>코리안숏헤어</td>\n",
              "      <td>11</td>\n",
              "      <td>F</td>\n",
              "      <td>L</td>\n",
              "    </tr>\n",
              "    <tr>\n",
              "      <th>336</th>\n",
              "      <td>IMG_C_A2_202985</td>\n",
              "      <td>C</td>\n",
              "      <td>A2</td>\n",
              "      <td>코리안숏헤어</td>\n",
              "      <td>1</td>\n",
              "      <td>F</td>\n",
              "      <td>L</td>\n",
              "    </tr>\n",
              "    <tr>\n",
              "      <th>337</th>\n",
              "      <td>IMG_C_A2_202980</td>\n",
              "      <td>C</td>\n",
              "      <td>A2</td>\n",
              "      <td>코리안숏헤어</td>\n",
              "      <td>10</td>\n",
              "      <td>M</td>\n",
              "      <td>B</td>\n",
              "    </tr>\n",
              "  </tbody>\n",
              "</table>\n",
              "<p>338 rows × 7 columns</p>\n",
              "</div>\n",
              "      <button class=\"colab-df-convert\" onclick=\"convertToInteractive('df-81f68799-cc67-481e-b99e-1c7618519364')\"\n",
              "              title=\"Convert this dataframe to an interactive table.\"\n",
              "              style=\"display:none;\">\n",
              "        \n",
              "  <svg xmlns=\"http://www.w3.org/2000/svg\" height=\"24px\"viewBox=\"0 0 24 24\"\n",
              "       width=\"24px\">\n",
              "    <path d=\"M0 0h24v24H0V0z\" fill=\"none\"/>\n",
              "    <path d=\"M18.56 5.44l.94 2.06.94-2.06 2.06-.94-2.06-.94-.94-2.06-.94 2.06-2.06.94zm-11 1L8.5 8.5l.94-2.06 2.06-.94-2.06-.94L8.5 2.5l-.94 2.06-2.06.94zm10 10l.94 2.06.94-2.06 2.06-.94-2.06-.94-.94-2.06-.94 2.06-2.06.94z\"/><path d=\"M17.41 7.96l-1.37-1.37c-.4-.4-.92-.59-1.43-.59-.52 0-1.04.2-1.43.59L10.3 9.45l-7.72 7.72c-.78.78-.78 2.05 0 2.83L4 21.41c.39.39.9.59 1.41.59.51 0 1.02-.2 1.41-.59l7.78-7.78 2.81-2.81c.8-.78.8-2.07 0-2.86zM5.41 20L4 18.59l7.72-7.72 1.47 1.35L5.41 20z\"/>\n",
              "  </svg>\n",
              "      </button>\n",
              "      \n",
              "  <style>\n",
              "    .colab-df-container {\n",
              "      display:flex;\n",
              "      flex-wrap:wrap;\n",
              "      gap: 12px;\n",
              "    }\n",
              "\n",
              "    .colab-df-convert {\n",
              "      background-color: #E8F0FE;\n",
              "      border: none;\n",
              "      border-radius: 50%;\n",
              "      cursor: pointer;\n",
              "      display: none;\n",
              "      fill: #1967D2;\n",
              "      height: 32px;\n",
              "      padding: 0 0 0 0;\n",
              "      width: 32px;\n",
              "    }\n",
              "\n",
              "    .colab-df-convert:hover {\n",
              "      background-color: #E2EBFA;\n",
              "      box-shadow: 0px 1px 2px rgba(60, 64, 67, 0.3), 0px 1px 3px 1px rgba(60, 64, 67, 0.15);\n",
              "      fill: #174EA6;\n",
              "    }\n",
              "\n",
              "    [theme=dark] .colab-df-convert {\n",
              "      background-color: #3B4455;\n",
              "      fill: #D2E3FC;\n",
              "    }\n",
              "\n",
              "    [theme=dark] .colab-df-convert:hover {\n",
              "      background-color: #434B5C;\n",
              "      box-shadow: 0px 1px 3px 1px rgba(0, 0, 0, 0.15);\n",
              "      filter: drop-shadow(0px 1px 2px rgba(0, 0, 0, 0.3));\n",
              "      fill: #FFFFFF;\n",
              "    }\n",
              "  </style>\n",
              "\n",
              "      <script>\n",
              "        const buttonEl =\n",
              "          document.querySelector('#df-81f68799-cc67-481e-b99e-1c7618519364 button.colab-df-convert');\n",
              "        buttonEl.style.display =\n",
              "          google.colab.kernel.accessAllowed ? 'block' : 'none';\n",
              "\n",
              "        async function convertToInteractive(key) {\n",
              "          const element = document.querySelector('#df-81f68799-cc67-481e-b99e-1c7618519364');\n",
              "          const dataTable =\n",
              "            await google.colab.kernel.invokeFunction('convertToInteractive',\n",
              "                                                     [key], {});\n",
              "          if (!dataTable) return;\n",
              "\n",
              "          const docLinkHtml = 'Like what you see? Visit the ' +\n",
              "            '<a target=\"_blank\" href=https://colab.research.google.com/notebooks/data_table.ipynb>data table notebook</a>'\n",
              "            + ' to learn more about interactive tables.';\n",
              "          element.innerHTML = '';\n",
              "          dataTable['output_type'] = 'display_data';\n",
              "          await google.colab.output.renderOutput(dataTable, element);\n",
              "          const docLink = document.createElement('div');\n",
              "          docLink.innerHTML = docLinkHtml;\n",
              "          element.appendChild(docLink);\n",
              "        }\n",
              "      </script>\n",
              "    </div>\n",
              "  </div>\n",
              "  "
            ]
          },
          "metadata": {},
          "execution_count": 184
        }
      ]
    },
    {
      "cell_type": "code",
      "source": [
        "from collections import defaultdict\n",
        "\n",
        "label = defaultdict(list)\n",
        "for filename in glob('*.json'):\n",
        "    data = json.load(open(filename))\n",
        "    meta_label[\"raw_data_ID\"].append(filename[:len(filename)-5])\n",
        "    meta_label[\"species\"].append(data['metaData'][\"species\"])\n",
        "    meta_label[\"lesions\"].append(data['metaData'][\"lesions\"])\n",
        "    meta_label[\"breed\"].append(data['metaData'][\"breed\"])\n",
        "    meta_label[\"age\"].append(data['metaData'][\"age\"])\n",
        "    meta_label[\"gender\"].append(data['metaData'][\"gender\"])\n",
        "    meta_label[\"region\"].append(data['metaData'][\"region\"])\n",
        "\n",
        "    ########################\n",
        "    for i in range(len(data['labelingInfo'])):\n",
        "        key = list(data['labelingInfo'][i].keys())[0] # 'polygon'\n",
        "        polybox = data['labelingInfo'][i][key]['location'][0] # 'polygon' location\n",
        "        for pb in list(polybox.keys()):\n",
        "            meta_label[key+str(i%2+1)+\"_\"+pb].append(polybox[pb])\n",
        "\n",
        "label"
      ],
      "metadata": {
        "colab": {
          "base_uri": "https://localhost:8080/"
        },
        "id": "z-RPJ8HDXuvi",
        "outputId": "496f95da-fb6d-46e2-e5eb-8074f2b47ecc"
      },
      "execution_count": 259,
      "outputs": [
        {
          "output_type": "execute_result",
          "data": {
            "text/plain": [
              "defaultdict(list, {})"
            ]
          },
          "metadata": {},
          "execution_count": 259
        }
      ]
    },
    {
      "cell_type": "code",
      "source": [
        "from collections import defaultdict\n",
        "\n",
        "label = defaultdict(list)\n",
        "for filename in glob('*.json'):\n",
        "    data = json.load(open(filename))\n",
        "    label['file'].append()"
      ],
      "metadata": {
        "id": "FQe9kkcvvks3"
      },
      "execution_count": null,
      "outputs": []
    },
    {
      "cell_type": "markdown",
      "source": [
        "poly1,2 box1,2 길이 맞춰야됨"
      ],
      "metadata": {
        "id": "wMd_u5Zxxkka"
      }
    },
    {
      "cell_type": "code",
      "source": [
        "meta_label_dt = pd.DataFrame(meta_label)\n",
        "# meta_label_dt.to_csv('/gdrive/MyDrive/Petom/val_cat_A2.csv')\n",
        "meta_label_dt"
      ],
      "metadata": {
        "id": "XlzZ1KTCsgnF"
      },
      "execution_count": null,
      "outputs": []
    },
    {
      "cell_type": "code",
      "source": [
        "data['labelingInfo'][0]['polygon']['location'][0]"
      ],
      "metadata": {
        "colab": {
          "base_uri": "https://localhost:8080/"
        },
        "id": "uJ3Ni_qqPj48",
        "outputId": "a443c9f9-8b21-427d-c0e1-99222b9647ce"
      },
      "execution_count": 149,
      "outputs": [
        {
          "output_type": "execute_result",
          "data": {
            "text/plain": [
              "{'x1': 563,\n",
              " 'x2': 589,\n",
              " 'x3': 652,\n",
              " 'x4': 720,\n",
              " 'x5': 735,\n",
              " 'x6': 653,\n",
              " 'x7': 563,\n",
              " 'y1': 557,\n",
              " 'y2': 614,\n",
              " 'y3': 625,\n",
              " 'y4': 589,\n",
              " 'y5': 522,\n",
              " 'y6': 492,\n",
              " 'y7': 557}"
            ]
          },
          "metadata": {},
          "execution_count": 149
        }
      ]
    },
    {
      "cell_type": "code",
      "source": [
        "from collections import defaultdict\n",
        "\n",
        "label = defaultdict(list)\n",
        "for filename in glob('*.json'):\n",
        "    data = json.load(open(filename))\n",
        "    ########################\n",
        "    for i in range(len(data['labelingInfo'])):\n",
        "        key = list(data['labelingInfo'][i].keys())[0] # 'polygon'\n",
        "        polybox = data['labelingInfo'][i][key]['location'][0] # 'polygon' location\n",
        "        # for pb in list(polybox.keys()):\n",
        "        #     meta_label[key+str(i%2+1)+\"_\"+pb].append(polybox[pb])\n",
        "        print(key)"
      ],
      "metadata": {
        "id": "UST8zPJssCDo"
      },
      "execution_count": null,
      "outputs": []
    },
    {
      "cell_type": "markdown",
      "source": [
        ""
      ],
      "metadata": {
        "id": "jSfLCrEqxi0b"
      }
    },
    {
      "cell_type": "code",
      "source": [
        "# 각 파일의 shape, head 출력\n",
        "from IPython.display import display\n",
        "import pandas as pd\n",
        "import json\n",
        "\n",
        "data = json.load(open('IMG_C_A2_202980.json'))\n",
        "data"
      ],
      "metadata": {
        "id": "Yiee6BlSLJld"
      },
      "execution_count": null,
      "outputs": []
    },
    {
      "cell_type": "markdown",
      "source": [
        "# polygon, box 2개 이상인 것들 파일 개수\n",
        "- train/cat/A2 : 60 / 2704 (4개는 4개 이상)\n",
        "- train/\bdog/A1 : 16 / 3092 (1개는 4개 이상)\n",
        "- train/\bdog/A2 : 113 / 10647 (2개는 총 4개 이상)\n",
        "- train/\bdog/A3 : 10 /10533\n",
        "- train/\bdog/A4 : 24 / 8734\n",
        "- train/\bdog/A5 : 81 / 8450\n",
        "- train/\bdog/A6 : 1 / 6106\n",
        "- validation/cat/A2 : 6 / 338\n",
        "- validation/dog/A5 : 0 / 246\n",
        "- validation/dog/A6 : 0 / 763\n",
        "\n",
        "\n"
      ],
      "metadata": {
        "id": "KCD0DJSR0Fly"
      }
    },
    {
      "cell_type": "markdown",
      "source": [
        "- json 파일 총 개수"
      ],
      "metadata": {
        "id": "zmBpwJyt_Znk"
      }
    },
    {
      "cell_type": "code",
      "source": [
        "%ls /content/validation/cat/A2/*.json -l | grep ^- | wc -l"
      ],
      "metadata": {
        "colab": {
          "base_uri": "https://localhost:8080/"
        },
        "id": "FH0Lez9H-xq2",
        "outputId": "5ddf0ed2-e3fb-40d6-ca0a-ec7b524671b2"
      },
      "execution_count": 339,
      "outputs": [
        {
          "output_type": "stream",
          "name": "stdout",
          "text": [
            "338\n"
          ]
        }
      ]
    },
    {
      "cell_type": "code",
      "source": [
        "dupl_keys_files = []\n",
        "\n",
        "for filename in glob('/content/validation/\bcat/A2/*.json'):\n",
        "    data = json.load(open(filename)) \n",
        "    labelingInfo = data['labelingInfo']\n",
        "    if len(labelingInfo) > 4:\n",
        "        dupl_keys_files.append(filename)\n",
        "    # print(labelingInfo)  \n",
        "\n",
        "len(dupl_keys_files)"
      ],
      "metadata": {
        "colab": {
          "base_uri": "https://localhost:8080/"
        },
        "id": "upuE4scE_upM",
        "outputId": "69ffd0c2-740b-4da5-dc4d-6fca3dc0bfe5"
      },
      "execution_count": 346,
      "outputs": [
        {
          "output_type": "execute_result",
          "data": {
            "text/plain": [
              "0"
            ]
          },
          "metadata": {},
          "execution_count": 346
        }
      ]
    },
    {
      "cell_type": "code",
      "source": [
        "for filename in dupl_keys_files:\n",
        "    data = json.load(open(filename)) \n",
        "    labelingInfo = data['labelingInfo']\n",
        "    for i in range(len(labelingInfo)):\n",
        "        num = [1,2,1,2]\n",
        "        for k,v in labelingInfo[i].items():\n",
        "            print(k,v)\n",
        "    # print(str(labelingInfo[0]))"
      ],
      "metadata": {
        "colab": {
          "base_uri": "https://localhost:8080/"
        },
        "id": "ujWEIAFp8oze",
        "outputId": "f8b43eae-01ec-428f-eb76-7382d37fc210"
      },
      "execution_count": 323,
      "outputs": [
        {
          "output_type": "stream",
          "name": "stdout",
          "text": [
            "polygon {'color': '#6600cc', 'location': [{'x1': 1725, 'y1': 301, 'x2': 1703, 'y2': 296, 'x3': 1661, 'y3': 314, 'x4': 1640, 'y4': 338, 'x5': 1635, 'y5': 376, 'x6': 1672, 'y6': 401, 'x7': 1712, 'y7': 395, 'x8': 1736, 'y8': 387, 'x9': 1769, 'y9': 351, 'x10': 1767, 'y10': 323, 'x11': 1725, 'y11': 301}], 'label': 'A6_결절_종괴', 'type': 'polygon'}\n",
            "polygon {'color': '#6600cc', 'location': [{'x1': 1280, 'y1': 230, 'x2': 1245, 'y2': 232, 'x3': 1209, 'y3': 247, 'x4': 1194, 'y4': 266, 'x5': 1191, 'y5': 296, 'x6': 1220, 'y6': 324, 'x7': 1260, 'y7': 327, 'x8': 1305, 'y8': 315, 'x9': 1325, 'y9': 286, 'x10': 1326, 'y10': 268, 'x11': 1280, 'y11': 230}], 'label': 'A6_결절_종괴', 'type': 'polygon'}\n",
            "box {'color': '#6600cc', 'location': [{'x': 1635, 'y': 296, 'width': 134, 'height': 105}], 'label': 'A6_결절_종괴', 'type': 'box'}\n",
            "box {'color': '#6600cc', 'location': [{'x': 1191, 'y': 230, 'width': 135, 'height': 97}], 'label': 'A6_결절_종괴', 'type': 'box'}\n"
          ]
        }
      ]
    },
    {
      "cell_type": "markdown",
      "source": [
        "# 여기부터 다시\n",
        "- 두개 이상인 것들 따로 진행해서 붙일지\n",
        "- if len(labelingInfo)>2 로 거르고 1,2 or 0,1 붙일지"
      ],
      "metadata": {
        "id": "rAYXn5Lp5Acd"
      }
    },
    {
      "cell_type": "code",
      "source": [
        "for filename in dupl_keys_files:\n",
        "    data = json.load(open('/content/validation/dog/A6/'+filename))   \n",
        "    labelingInfo = data['labelingInfo']\n",
        "    print(i)\n",
        "dupl_keys_files"
      ],
      "metadata": {
        "colab": {
          "base_uri": "https://localhost:8080/"
        },
        "id": "bVhEQLzVxPzw",
        "outputId": "23dde8d2-df6c-4d31-db13-286541d6677a"
      },
      "execution_count": 306,
      "outputs": [
        {
          "output_type": "execute_result",
          "data": {
            "text/plain": [
              "[]"
            ]
          },
          "metadata": {},
          "execution_count": 306
        }
      ]
    },
    {
      "cell_type": "markdown",
      "source": [
        ""
      ],
      "metadata": {
        "id": "n8zv7vd759gy"
      }
    },
    {
      "cell_type": "markdown",
      "source": [
        ""
      ],
      "metadata": {
        "id": "OGnl7_sI59bK"
      }
    },
    {
      "cell_type": "code",
      "source": [
        "key = labelingInfo[3].keys()\n",
        "list(key)"
      ],
      "metadata": {
        "colab": {
          "base_uri": "https://localhost:8080/"
        },
        "id": "NdNSsNXwnuHG",
        "outputId": "f46cac9f-c2d9-45f2-82fd-deecc3ed4f36"
      },
      "execution_count": 248,
      "outputs": [
        {
          "output_type": "execute_result",
          "data": {
            "text/plain": [
              "['box']"
            ]
          },
          "metadata": {},
          "execution_count": 248
        }
      ]
    },
    {
      "cell_type": "code",
      "source": [
        "%cd /content/train/cat/A2 "
      ],
      "metadata": {
        "colab": {
          "base_uri": "https://localhost:8080/"
        },
        "id": "MW-FM6FPk-qV",
        "outputId": "3d9f6a7d-e9bc-4a53-fadc-90d4b0039edb"
      },
      "execution_count": 267,
      "outputs": [
        {
          "output_type": "stream",
          "name": "stdout",
          "text": [
            "/content/train/cat/A2\n"
          ]
        }
      ]
    },
    {
      "cell_type": "code",
      "source": [
        "data = json.load(open('IMG_C_A2_200060.json'))\n",
        "leng = len(data['labelingInfo'])\n",
        "for i in len(leng):\n",
        "    print(i)\n",
        "# len(data['labelingInfo'])"
      ],
      "metadata": {
        "colab": {
          "base_uri": "https://localhost:8080/"
        },
        "id": "nNw6XYDHw8XR",
        "outputId": "6d1c7d41-237c-4d08-e94b-78f9795a9482"
      },
      "execution_count": 283,
      "outputs": [
        {
          "output_type": "stream",
          "name": "stdout",
          "text": [
            "{'polygon': {'color': '#1beaac', 'location': [{'x1': 1418, 'y1': 365, 'x2': 1350, 'y2': 271, 'x3': 1259, 'y3': 216, 'x4': 1171, 'y4': 215, 'x5': 1126, 'y5': 287, 'x6': 1133, 'y6': 380, 'x7': 1203, 'y7': 450, 'x8': 1298, 'y8': 454, 'x9': 1386, 'y9': 423, 'x10': 1418, 'y10': 365}], 'label': 'A2_비듬_각질_상피성잔고리', 'type': 'polygon'}}\n",
            "{'polygon': {'color': '#1beaac', 'location': [{'x1': 205, 'y1': 145, 'x2': 339, 'y2': 148, 'x3': 615, 'y3': 171, 'x4': 763, 'y4': 196, 'x5': 812, 'y5': 247, 'x6': 811, 'y6': 357, 'x7': 799, 'y7': 387, 'x8': 663, 'y8': 363, 'x9': 527, 'y9': 348, 'x10': 441, 'y10': 381, 'x11': 297, 'y11': 369, 'x12': 168, 'y12': 324, 'x13': 130, 'y13': 259, 'x14': 205, 'y14': 145}], 'label': 'A2_비듬_각질_상피성잔고리', 'type': 'polygon'}}\n",
            "{'box': {'color': '#1beaac', 'location': [{'x': 1126, 'y': 215, 'width': 292, 'height': 239}], 'label': 'A2_비듬_각질_상피성잔고리', 'type': 'box'}}\n",
            "{'box': {'color': '#1beaac', 'location': [{'x': 130, 'y': 145, 'width': 682, 'height': 242}], 'label': 'A2_비듬_각질_상피성잔고리', 'type': 'box'}}\n"
          ]
        },
        {
          "output_type": "execute_result",
          "data": {
            "text/plain": [
              "4"
            ]
          },
          "metadata": {},
          "execution_count": 283
        }
      ]
    },
    {
      "cell_type": "code",
      "source": [
        "data = json.load(open('IMG_C_A2_202789.json'))\n",
        "for i in data['labelingInfo']:\n",
        "    print(i)\n",
        "df = pd.DataFrame()"
      ],
      "metadata": {
        "colab": {
          "base_uri": "https://localhost:8080/"
        },
        "id": "wVaf5sIhQje0",
        "outputId": "d66727b1-a296-4ad3-86ec-893aa6e56e81"
      },
      "execution_count": 266,
      "outputs": [
        {
          "output_type": "stream",
          "name": "stdout",
          "text": [
            "{'polygon': {'color': '#1beaac', 'location': [{'x1': 457, 'y1': 622, 'x2': 344, 'y2': 622, 'x3': 196, 'y3': 539, 'x4': 190, 'y4': 473, 'x5': 261, 'y5': 368, 'x6': 363, 'y6': 323, 'x7': 405, 'y7': 330, 'x8': 486, 'y8': 497, 'x9': 457, 'y9': 622}], 'label': 'A2_비듬_각질_상피성잔고리', 'type': 'polygon'}}\n",
            "{'polygon': {'color': '#1beaac', 'location': [{'x1': 1124, 'y1': 297, 'x2': 1190, 'y2': 273, 'x3': 1311, 'y3': 337, 'x4': 1330, 'y4': 424, 'x5': 1276, 'y5': 492, 'x6': 1176, 'y6': 478, 'x7': 1152, 'y7': 421, 'x8': 1124, 'y8': 297}], 'label': 'A2_비듬_각질_상피성잔고리', 'type': 'polygon'}}\n",
            "{'box': {'color': '#1beaac', 'location': [{'x': 190, 'y': 323, 'width': 296, 'height': 299}], 'label': 'A2_비듬_각질_상피성잔고리', 'type': 'box'}}\n",
            "{'box': {'color': '#1beaac', 'location': [{'x': 1124, 'y': 273, 'width': 206, 'height': 219}], 'label': 'A2_비듬_각질_상피성잔고리', 'type': 'box'}}\n"
          ]
        }
      ]
    },
    {
      "cell_type": "code",
      "source": [
        "df = pd.DataFrame()\n",
        "for i in data['labelingInfo']:\n",
        "    for k in i:\n",
        "\n",
        "        df.append(i,ignore_index=True)\n",
        "df"
      ],
      "metadata": {
        "id": "ZkwHsRaclZaB"
      },
      "execution_count": null,
      "outputs": []
    },
    {
      "cell_type": "markdown",
      "source": [
        ""
      ],
      "metadata": {
        "id": "9IrV5xLd8Dnp"
      }
    },
    {
      "cell_type": "code",
      "source": [
        "%cd"
      ],
      "metadata": {
        "id": "4WlZP6uzaYJM"
      },
      "execution_count": null,
      "outputs": []
    },
    {
      "cell_type": "code",
      "source": [
        "for filename in glob('*.json'):\n",
        "    data = json.load(open(filename))   \n",
        "    try:\n",
        "        box = data['labelingInfo'][1]['box']['location'][0]\n",
        "    except:\n",
        "        print(filename)"
      ],
      "metadata": {
        "id": "xjvBkq42aZZm"
      },
      "execution_count": null,
      "outputs": []
    }
  ]
}