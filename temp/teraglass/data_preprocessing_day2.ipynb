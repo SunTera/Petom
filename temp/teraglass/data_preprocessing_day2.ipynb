{
  "nbformat": 4,
  "nbformat_minor": 0,
  "metadata": {
    "colab": {
      "name": "data_preprocessing_day2.ipynb",
      "provenance": [],
      "collapsed_sections": [],
      "toc_visible": true,
      "machine_shape": "hm"
    },
    "kernelspec": {
      "name": "python3",
      "display_name": "Python 3"
    },
    "language_info": {
      "name": "python"
    },
    "accelerator": "GPU",
    "gpuClass": "standard"
  },
  "cells": [
    {
      "cell_type": "code",
      "execution_count": 1,
      "metadata": {
        "colab": {
          "base_uri": "https://localhost:8080/"
        },
        "id": "ftILKRfD4xOy",
        "outputId": "d20823fd-d24e-439b-93b9-1df916334329"
      },
      "outputs": [
        {
          "output_type": "stream",
          "name": "stdout",
          "text": [
            "Mounted at /gdrive\n"
          ]
        }
      ],
      "source": [
        "from google.colab import drive\n",
        "drive.mount('/gdrive')"
      ]
    },
    {
      "cell_type": "code",
      "source": [
        "!cp /gdrive/MyDrive/Petom/json_files/val_cat_A2_json_files.zip ./\n",
        "!cp /gdrive/MyDrive/Petom/json_files/val_dog_A6_json_files.zip ./\n",
        "!cp /gdrive/MyDrive/Petom/json_files/val_dog_A5_json_files.zip ./\n",
        "!cp /gdrive/MyDrive/Petom/json_files/train_dog_A3_json_files.zip ./\n"
      ],
      "metadata": {
        "id": "0C_wyIjw5KQd"
      },
      "execution_count": 2,
      "outputs": []
    },
    {
      "cell_type": "code",
      "source": [
        "!tar -xvf /content/val_dog_A6_json_files.zip"
      ],
      "metadata": {
        "id": "l73fcZAt5Z4_"
      },
      "execution_count": null,
      "outputs": []
    },
    {
      "cell_type": "code",
      "source": [
        "!tar -xvf train_dog_A3_json_files.zip"
      ],
      "metadata": {
        "id": "4NKYdLC867Ui"
      },
      "execution_count": null,
      "outputs": []
    },
    {
      "cell_type": "code",
      "source": [
        "!rm -rf content"
      ],
      "metadata": {
        "id": "QPrEJ5aj7tB_"
      },
      "execution_count": 9,
      "outputs": []
    },
    {
      "cell_type": "code",
      "source": [
        "!pwd"
      ],
      "metadata": {
        "colab": {
          "base_uri": "https://localhost:8080/"
        },
        "id": "V74-oHaw6PWA",
        "outputId": "a0bf65d3-def1-4e20-ea3a-7f53264d65c2"
      },
      "execution_count": 10,
      "outputs": [
        {
          "output_type": "stream",
          "name": "stdout",
          "text": [
            "/content\n"
          ]
        }
      ]
    },
    {
      "cell_type": "markdown",
      "source": [
        "# polygon, box 2개 이상인 것들 파일 개수\n",
        "- train/cat/A2 : 60 / 2704 (4개는 4개 이상)\n",
        "- train/\bdog/A1 : 16 / 3092 (1개는 4개 이상)\n",
        "- train/\bdog/A2 : 113 / 10647 (2개는 총 4개 이상)\n",
        "- train/\bdog/A3 : 10 /10533\n",
        "- train/\bdog/A4 : 24 / 8734\n",
        "- train/\bdog/A5 : 81 / 8450\n",
        "- train/\bdog/A6 : 1 / 6106\n",
        "- validation/cat/A2 : 6 / 338\n",
        "- validation/dog/A5 : 0 / 246\n",
        "- validation/dog/A6 : 0 / 763\n",
        "\n",
        "\n"
      ],
      "metadata": {
        "id": "KCD0DJSR0Fly"
      }
    },
    {
      "cell_type": "markdown",
      "source": [
        "# train_dog_A3\n",
        "- box만 추출\n",
        "- 1개짜리 _one_json.zip\n",
        "- 2개 이상 _two_json.zip"
      ],
      "metadata": {
        "id": "Ku4ZjbrS9ui2"
      }
    },
    {
      "cell_type": "markdown",
      "source": [
        "## 폴더로 이동"
      ],
      "metadata": {
        "id": "OfNqAOdlIYxe"
      }
    },
    {
      "cell_type": "code",
      "source": [
        "%cd /content/train_dog_A3_json_files"
      ],
      "metadata": {
        "colab": {
          "base_uri": "https://localhost:8080/"
        },
        "id": "8Zy3sphb_Y9A",
        "outputId": "3830efb4-b177-4215-a994-737b362bb155"
      },
      "execution_count": 67,
      "outputs": [
        {
          "output_type": "stream",
          "name": "stdout",
          "text": [
            "[Errno 2] No such file or directory: '/content/train_dog_A3_json_files'\n",
            "/content/val_cat_A2_json_files\n"
          ]
        }
      ]
    },
    {
      "cell_type": "markdown",
      "source": [
        "## 전체 개수 확인\n",
        "- 10533"
      ],
      "metadata": {
        "id": "CBiZ6EzNIXXH"
      }
    },
    {
      "cell_type": "code",
      "source": [
        "%ls /content/train_dog_A3_json_files/*.json -l | grep ^- | wc -l"
      ],
      "metadata": {
        "colab": {
          "base_uri": "https://localhost:8080/"
        },
        "id": "3DeYL0yFD25f",
        "outputId": "34ca5f6c-a6b0-49de-e70d-47136f131321"
      },
      "execution_count": 53,
      "outputs": [
        {
          "output_type": "stream",
          "name": "stdout",
          "text": [
            "ls: cannot access '/content/train_dog_A3_json_files/*.json': No such file or directory\n",
            "0\n"
          ]
        }
      ]
    },
    {
      "cell_type": "markdown",
      "source": [
        "## box 두개 이상인 파일 개수 확인\n",
        "- 10"
      ],
      "metadata": {
        "id": "GHeyIVfmIz6L"
      }
    },
    {
      "cell_type": "code",
      "source": [
        "\n",
        "dupl_keys_files = []\n",
        "\n",
        "for filename in glob('/content/train_dog_A3_json_files/*.json'):\n",
        "    data = json.load(open(filename)) \n",
        "    labelingInfo = data['labelingInfo']\n",
        "    if len(labelingInfo) > 2:\n",
        "        dupl_keys_files.append(filename)\n",
        "    # print(labelingInfo)  \n",
        "len(dupl_keys_files)\n",
        "\n",
        "\n"
      ],
      "metadata": {
        "id": "Q9Akv2QwD0aY"
      },
      "execution_count": 41,
      "outputs": []
    },
    {
      "cell_type": "markdown",
      "source": [
        "## box 두개 이상인 파일들 two_more 폴더로 이동"
      ],
      "metadata": {
        "id": "fnrKesHTIi1O"
      }
    },
    {
      "cell_type": "code",
      "source": [
        "import os\n",
        "import shutil\n",
        "\n",
        "for filename in dupl_keys_files:\n",
        "    shutil.move(filename, \"/content/train_dog_A3_two_more_json\")"
      ],
      "metadata": {
        "id": "Ab0YfRXtIym3"
      },
      "execution_count": null,
      "outputs": []
    },
    {
      "cell_type": "markdown",
      "source": [
        "## 이동 후 개수 확인"
      ],
      "metadata": {
        "id": "l4qyD1RxIqb7"
      }
    },
    {
      "cell_type": "code",
      "source": [
        "%ls /content/train_dog_A3_json_files/*.json -l | grep ^- | wc -l"
      ],
      "metadata": {
        "colab": {
          "base_uri": "https://localhost:8080/"
        },
        "id": "JAO67IHvGVEr",
        "outputId": "fb1647c4-6bc3-4181-f34a-0ba5d7cf4e28"
      },
      "execution_count": 43,
      "outputs": [
        {
          "output_type": "stream",
          "name": "stdout",
          "text": [
            "10523\n"
          ]
        }
      ]
    },
    {
      "cell_type": "code",
      "source": [
        "from collections import defaultdict\n",
        "import json\n",
        "from glob import glob\n",
        "\n",
        "meta_label = defaultdict(list)\n",
        "for filename in glob('*.json'):\n",
        "    data = json.load(open(filename))\n",
        "    if len(data['labelingInfo']) > 2:\n",
        "            continue\n",
        "    meta_label[\"raw_data_ID\"].append(filename[:len(filename)-5])\n",
        "    meta_label[\"species\"].append(data['metaData'][\"species\"])\n",
        "    meta_label[\"lesions\"].append(data['metaData'][\"lesions\"])\n",
        "    meta_label[\"breed\"].append(data['metaData'][\"breed\"])\n",
        "    meta_label[\"age\"].append(data['metaData'][\"age\"])\n",
        "    meta_label[\"gender\"].append(data['metaData'][\"gender\"])\n",
        "    meta_label[\"region\"].append(data['metaData'][\"region\"])\n",
        "\n",
        "    # p_lotation = data['labelingInfo'][0]['polygon']['location'][0] # 'polygon' location\n",
        "    # for xys in list(p_lotation.keys()):\n",
        "    #     meta_label['polygon1_'+xys].append(p_lotation[xys])\n",
        "\n",
        "    b_lotation = data['labelingInfo'][1]['box']['location'][0] # 'box' location\n",
        "    for xys in list(b_lotation.keys()):\n",
        "        meta_label['box1_'+xys].append(b_lotation[xys])\n",
        "\n",
        "meta_label"
      ],
      "metadata": {
        "id": "3_ONTWMh9o8m"
      },
      "execution_count": null,
      "outputs": []
    },
    {
      "cell_type": "code",
      "source": [
        "import pandas as pd\n",
        "meta_label_df = pd.DataFrame(meta_label)\n",
        "# meta_label_df\n",
        "meta_label_df.to_csv('/gdrive/MyDrive/Petom/train_dog_A3_one.csv')"
      ],
      "metadata": {
        "id": "DMIM4CbjC3_W"
      },
      "execution_count": 70,
      "outputs": []
    },
    {
      "cell_type": "markdown",
      "source": [
        "## 분리한 json 따로 압축\n",
        "- 구글 드라이브로 그냥 드래그해서 옮김"
      ],
      "metadata": {
        "id": "6QESB0aHG96B"
      }
    },
    {
      "cell_type": "markdown",
      "source": [
        "## content 폴더로 이동"
      ],
      "metadata": {
        "id": "1eLWed5xJNMY"
      }
    },
    {
      "cell_type": "code",
      "source": [
        "%cd ../"
      ],
      "metadata": {
        "colab": {
          "base_uri": "https://localhost:8080/"
        },
        "id": "0-EhXfFGHo8x",
        "outputId": "746e6362-57ed-4bac-a9a2-bde4e2fd5716"
      },
      "execution_count": 47,
      "outputs": [
        {
          "output_type": "stream",
          "name": "stdout",
          "text": [
            "/content\n"
          ]
        }
      ]
    },
    {
      "cell_type": "markdown",
      "source": [
        "## 파일명 양식 확인해서 tar로 압축"
      ],
      "metadata": {
        "id": "2A2pxr2FJP1r"
      }
    },
    {
      "cell_type": "code",
      "source": [
        "!tar -cvf train_dog_A3_one_json.zip /content/train_dog_A3_one_json\n",
        "!tar -cvf train_dog_A3_two_json.zip /content/train_dog_A3_two_json"
      ],
      "metadata": {
        "id": "G_NEuv4BCrSk"
      },
      "execution_count": null,
      "outputs": []
    },
    {
      "cell_type": "markdown",
      "source": [
        "# val_cat_A2"
      ],
      "metadata": {
        "id": "tz_fg-ry_lcr"
      }
    },
    {
      "cell_type": "markdown",
      "source": [
        "## 폴더로 이동\n",
        "- /content/val_cat_A2_json_files"
      ],
      "metadata": {
        "id": "844Oy2rYJird"
      }
    },
    {
      "cell_type": "code",
      "source": [
        "%cd /content/val_cat_A2_json_files"
      ],
      "metadata": {
        "colab": {
          "base_uri": "https://localhost:8080/"
        },
        "outputId": "c97a8ba2-3597-42ea-b81a-a246396755af",
        "id": "d0o9T99LJird"
      },
      "execution_count": 58,
      "outputs": [
        {
          "output_type": "stream",
          "name": "stdout",
          "text": [
            "/content/val_cat_A2_json_files\n"
          ]
        }
      ]
    },
    {
      "cell_type": "markdown",
      "source": [
        "## 전체 개수 확인\n",
        "- 338"
      ],
      "metadata": {
        "id": "HypsVnnzJird"
      }
    },
    {
      "cell_type": "code",
      "source": [
        "%ls /content/val_cat_A2_json_files/*.json -l | grep ^- | wc -l"
      ],
      "metadata": {
        "outputId": "3088671e-2ba9-42cf-d6ac-45dab5b7597d",
        "colab": {
          "base_uri": "https://localhost:8080/"
        },
        "id": "6E20bv1DJird"
      },
      "execution_count": 59,
      "outputs": [
        {
          "output_type": "stream",
          "name": "stdout",
          "text": [
            "338\n"
          ]
        }
      ]
    },
    {
      "cell_type": "markdown",
      "source": [
        "## box 두개 이상인 파일 개수 확인\n",
        "- 6"
      ],
      "metadata": {
        "id": "Ul01hkSBJird"
      }
    },
    {
      "cell_type": "code",
      "source": [
        "\n",
        "dupl_keys_files = []\n",
        "\n",
        "for filename in glob('/content/val_cat_A2_json_files/*.json'):\n",
        "    data = json.load(open(filename)) \n",
        "    labelingInfo = data['labelingInfo']\n",
        "    if len(labelingInfo) > 2:\n",
        "        dupl_keys_files.append(filename)\n",
        "    # print(labelingInfo)  \n",
        "len(dupl_keys_files)\n"
      ],
      "metadata": {
        "colab": {
          "base_uri": "https://localhost:8080/"
        },
        "id": "_dlg1f70Jird",
        "outputId": "750a93b6-0928-4ff0-c878-ddeb5619d89e"
      },
      "execution_count": 60,
      "outputs": [
        {
          "output_type": "execute_result",
          "data": {
            "text/plain": [
              "6"
            ]
          },
          "metadata": {},
          "execution_count": 60
        }
      ]
    },
    {
      "cell_type": "markdown",
      "source": [
        "## box 두개 이상인 파일들 two_more 폴더로 이동\n",
        "- 폴더 미리 만들고 옮기기"
      ],
      "metadata": {
        "id": "3vrlKDVQJire"
      }
    },
    {
      "cell_type": "code",
      "source": [
        "import os\n",
        "import shutil\n",
        "\n",
        "for filename in dupl_keys_files:\n",
        "    shutil.move(filename, \"/content/val_cat_A2_two_more_json\")"
      ],
      "metadata": {
        "id": "XNjhPEeWJire"
      },
      "execution_count": 61,
      "outputs": []
    },
    {
      "cell_type": "markdown",
      "source": [
        "## 이동 후 개수 확인\n",
        "- 332"
      ],
      "metadata": {
        "id": "jtAye8aeJire"
      }
    },
    {
      "cell_type": "code",
      "source": [
        "%ls /content/val_cat_A2_json_files/*.json -l | grep ^- | wc -l"
      ],
      "metadata": {
        "outputId": "1aeec2a8-9147-492a-85e3-001c031f64c5",
        "colab": {
          "base_uri": "https://localhost:8080/"
        },
        "id": "2qv2OuGNJire"
      },
      "execution_count": 76,
      "outputs": [
        {
          "output_type": "stream",
          "name": "stdout",
          "text": [
            "332\n"
          ]
        }
      ]
    },
    {
      "cell_type": "code",
      "source": [
        "from collections import defaultdict\n",
        "import json\n",
        "from glob import glob\n",
        "\n",
        "meta_label = defaultdict(list)\n",
        "for filename in glob('*.json'):\n",
        "    data = json.load(open(filename))\n",
        "    if len(data['labelingInfo']) > 2:\n",
        "            continue\n",
        "    meta_label[\"raw_data_ID\"].append(filename[:len(filename)-5])\n",
        "    meta_label[\"species\"].append(data['metaData'][\"species\"])\n",
        "    meta_label[\"lesions\"].append(data['metaData'][\"lesions\"])\n",
        "    meta_label[\"breed\"].append(data['metaData'][\"breed\"])\n",
        "    meta_label[\"age\"].append(data['metaData'][\"age\"])\n",
        "    meta_label[\"gender\"].append(data['metaData'][\"gender\"])\n",
        "    meta_label[\"region\"].append(data['metaData'][\"region\"])\n",
        "\n",
        "    # p_lotation = data['labelingInfo'][0]['polygon']['location'][0] # 'polygon' location\n",
        "    # for xys in list(p_lotation.keys()):\n",
        "    #     meta_label['polygon1_'+xys].append(p_lotation[xys])\n",
        "\n",
        "    b_lotation = data['labelingInfo'][1]['box']['location'][0] # 'box' location\n",
        "    for xys in list(b_lotation.keys()):\n",
        "        meta_label['box1_'+xys].append(b_lotation[xys])\n",
        "\n",
        "meta_label"
      ],
      "metadata": {
        "id": "0VJvy0ntJire"
      },
      "execution_count": null,
      "outputs": []
    },
    {
      "cell_type": "markdown",
      "source": [
        "## json -> DataFrame -> csv로 변경후 gdrive에 저장\n",
        "- df 파일 꼭 확인해볼것\n",
        "- gdrive에 저장 전에 꼭 파일명 확인"
      ],
      "metadata": {
        "id": "mWjfaHEqLzHk"
      }
    },
    {
      "cell_type": "code",
      "source": [
        "import pandas as pd\n",
        "meta_label_df = pd.DataFrame(meta_label)\n",
        "# meta_label_df\n",
        "meta_label_df.to_csv('/gdrive/MyDrive/Petom/csv_files/val_cat_A2_one.csv')"
      ],
      "metadata": {
        "id": "fsUOKq7mJire"
      },
      "execution_count": 81,
      "outputs": []
    },
    {
      "cell_type": "markdown",
      "source": [
        "## 분리한 json 따로 압축\n",
        "- _json_files 폴더명을 one_json으로 변경 후 압축\n",
        "- 구글 드라이브로 그냥 드래그해서 옮김"
      ],
      "metadata": {
        "id": "2rYkNNT2Jire"
      }
    },
    {
      "cell_type": "markdown",
      "source": [
        "## content 폴더로 이동"
      ],
      "metadata": {
        "id": "SLMhyanyJire"
      }
    },
    {
      "cell_type": "code",
      "source": [
        "%cd ../"
      ],
      "metadata": {
        "outputId": "9a032ac0-4d67-4590-b687-df57f2cc8740",
        "colab": {
          "base_uri": "https://localhost:8080/"
        },
        "id": "Meju8cTOJire"
      },
      "execution_count": 82,
      "outputs": [
        {
          "output_type": "stream",
          "name": "stdout",
          "text": [
            "/content\n"
          ]
        }
      ]
    },
    {
      "cell_type": "markdown",
      "source": [
        "## 파일명 양식 확인해서 tar로 압축\n",
        "- 파일명 꼭 확인"
      ],
      "metadata": {
        "id": "1nChJeiOJire"
      }
    },
    {
      "cell_type": "code",
      "source": [
        "!tar -cvf val_cat_A2_one_json.zip /content/val_cat_A2_one_json\n",
        "!tar -cvf val_cat_A2_two_json.zip /content/val_cat_A2_two_json"
      ],
      "metadata": {
        "id": "Ji1ET15sJire"
      },
      "execution_count": null,
      "outputs": []
    },
    {
      "cell_type": "code",
      "source": [
        ""
      ],
      "metadata": {
        "id": "3CtRXxqYOmA8"
      },
      "execution_count": null,
      "outputs": []
    },
    {
      "cell_type": "markdown",
      "source": [
        "# val_dog_A5"
      ],
      "metadata": {
        "id": "c__vkUXkO2Vh"
      }
    },
    {
      "cell_type": "markdown",
      "source": [
        "## 폴더로 이동\n",
        "- /content/val_dog_A5_json_files"
      ],
      "metadata": {
        "id": "sXLXMorbO2Vh"
      }
    },
    {
      "cell_type": "code",
      "source": [
        "%cd /content/val_dog_A5_json_files"
      ],
      "metadata": {
        "colab": {
          "base_uri": "https://localhost:8080/"
        },
        "outputId": "7067e766-6f6f-40bf-8dba-44ad7e376ead",
        "id": "WMwAVxKYO2Vi"
      },
      "execution_count": 84,
      "outputs": [
        {
          "output_type": "stream",
          "name": "stdout",
          "text": [
            "/content/val_dog_A5_json_files\n"
          ]
        }
      ]
    },
    {
      "cell_type": "markdown",
      "source": [
        "## 전체 개수 확인\n",
        "- 246"
      ],
      "metadata": {
        "id": "SRMLTykKO2Vi"
      }
    },
    {
      "cell_type": "code",
      "source": [
        "%ls /content/val_dog_A5_json_files/*.json -l | grep ^- | wc -l"
      ],
      "metadata": {
        "outputId": "71a68654-40ec-4d20-95ad-524abb6924af",
        "colab": {
          "base_uri": "https://localhost:8080/"
        },
        "id": "c22atyBEO2Vi"
      },
      "execution_count": 85,
      "outputs": [
        {
          "output_type": "stream",
          "name": "stdout",
          "text": [
            "246\n"
          ]
        }
      ]
    },
    {
      "cell_type": "markdown",
      "source": [
        "## box 두개 이상인 파일 개수 확인\n",
        "- 0"
      ],
      "metadata": {
        "id": "JJxakGD1O2Vi"
      }
    },
    {
      "cell_type": "code",
      "source": [
        "\n",
        "dupl_keys_files = []\n",
        "\n",
        "for filename in glob('/content/val_dog_A5_json_files/*.json'):\n",
        "    data = json.load(open(filename)) \n",
        "    labelingInfo = data['labelingInfo']\n",
        "    if len(labelingInfo) > 2:\n",
        "        dupl_keys_files.append(filename)\n",
        "    # print(labelingInfo)  \n",
        "len(dupl_keys_files)\n"
      ],
      "metadata": {
        "colab": {
          "base_uri": "https://localhost:8080/"
        },
        "outputId": "40578331-4fb0-40cd-87cc-1b8590d49d7d",
        "id": "fpu0hMFxO2Vi"
      },
      "execution_count": 86,
      "outputs": [
        {
          "output_type": "execute_result",
          "data": {
            "text/plain": [
              "0"
            ]
          },
          "metadata": {},
          "execution_count": 86
        }
      ]
    },
    {
      "cell_type": "markdown",
      "source": [
        "## box 두개 이상인 파일들 two_more 폴더로 이동\n",
        "- 폴더 미리 만들고 옮기기"
      ],
      "metadata": {
        "id": "G_-t3cLbO2Vi"
      }
    },
    {
      "cell_type": "code",
      "source": [
        "import os\n",
        "import shutil\n",
        "\n",
        "for filename in dupl_keys_files:\n",
        "    shutil.move(filename, \"/content/val_dog_A5_two_json\")"
      ],
      "metadata": {
        "id": "nOeJLtWDO2Vi"
      },
      "execution_count": 87,
      "outputs": []
    },
    {
      "cell_type": "markdown",
      "source": [
        "## 폴더명 one_json으로 변경\n",
        "- val_dog_A5_json_files -> val_dog_A5_one_json"
      ],
      "metadata": {
        "id": "8zvQUyL9PXhJ"
      }
    },
    {
      "cell_type": "markdown",
      "source": [
        "## 이동 후 개수 확인\n",
        "- 246"
      ],
      "metadata": {
        "id": "JiUtCeDfO2Vi"
      }
    },
    {
      "cell_type": "code",
      "source": [
        "%ls /content/val_dog_A5_one_json/*.json -l | grep ^- | wc -l"
      ],
      "metadata": {
        "outputId": "622ab07d-9f67-4fa8-bdf8-d528a9cce35c",
        "colab": {
          "base_uri": "https://localhost:8080/"
        },
        "id": "tM71w9gYO2Vi"
      },
      "execution_count": 89,
      "outputs": [
        {
          "output_type": "stream",
          "name": "stdout",
          "text": [
            "246\n"
          ]
        }
      ]
    },
    {
      "cell_type": "code",
      "source": [
        "from collections import defaultdict\n",
        "import json\n",
        "from glob import glob\n",
        "\n",
        "meta_label = defaultdict(list)\n",
        "for filename in glob('*.json'):\n",
        "    data = json.load(open(filename))\n",
        "    if len(data['labelingInfo']) > 2:\n",
        "            continue\n",
        "    meta_label[\"raw_data_ID\"].append(filename[:len(filename)-5])\n",
        "    meta_label[\"species\"].append(data['metaData'][\"species\"])\n",
        "    meta_label[\"lesions\"].append(data['metaData'][\"lesions\"])\n",
        "    meta_label[\"breed\"].append(data['metaData'][\"breed\"])\n",
        "    meta_label[\"age\"].append(data['metaData'][\"age\"])\n",
        "    meta_label[\"gender\"].append(data['metaData'][\"gender\"])\n",
        "    meta_label[\"region\"].append(data['metaData'][\"region\"])\n",
        "\n",
        "    # p_lotation = data['labelingInfo'][0]['polygon']['location'][0] # 'polygon' location\n",
        "    # for xys in list(p_lotation.keys()):\n",
        "    #     meta_label['polygon1_'+xys].append(p_lotation[xys])\n",
        "\n",
        "    b_lotation = data['labelingInfo'][1]['box']['location'][0] # 'box' location\n",
        "    for xys in list(b_lotation.keys()):\n",
        "        meta_label['box1_'+xys].append(b_lotation[xys])\n",
        "\n",
        "meta_label"
      ],
      "metadata": {
        "id": "wEvGkswpO2Vj"
      },
      "execution_count": null,
      "outputs": []
    },
    {
      "cell_type": "markdown",
      "source": [
        "## json -> DataFrame -> csv로 변경후 gdrive에 저장\n",
        "- df 파일 꼭 확인해볼것 (행 개수)\n",
        "- gdrive에 저장 전에 꼭 파일명 확인"
      ],
      "metadata": {
        "id": "0zuk29CeO2Vj"
      }
    },
    {
      "cell_type": "code",
      "source": [
        "import pandas as pd\n",
        "meta_label_df = pd.DataFrame(meta_label)\n",
        "# meta_label_df\n",
        "meta_label_df.to_csv('/gdrive/MyDrive/Petom/csv_files/val_dog_A5_one.csv')"
      ],
      "metadata": {
        "id": "_E6-Jh7zO2Vj"
      },
      "execution_count": 92,
      "outputs": []
    },
    {
      "cell_type": "markdown",
      "source": [
        "## 분리한 json 따로 압축\n",
        "- _json_files 폴더명을 one_json으로 변경 후 압축\n",
        "- 구글 드라이브로 그냥 드래그해서 옮김"
      ],
      "metadata": {
        "id": "34DRKHBlO2Vj"
      }
    },
    {
      "cell_type": "markdown",
      "source": [
        "## content 폴더로 이동"
      ],
      "metadata": {
        "id": "Tbo-eMahO2Vj"
      }
    },
    {
      "cell_type": "code",
      "source": [
        "%cd ../"
      ],
      "metadata": {
        "outputId": "692ac2a9-5ec8-445e-9c5d-478df8280420",
        "colab": {
          "base_uri": "https://localhost:8080/"
        },
        "id": "QJJVb7SZO2Vj"
      },
      "execution_count": 93,
      "outputs": [
        {
          "output_type": "stream",
          "name": "stdout",
          "text": [
            "/content\n"
          ]
        }
      ]
    },
    {
      "cell_type": "markdown",
      "source": [
        "## 파일명 양식 확인해서 tar로 압축\n",
        "- 파일명 꼭 확인"
      ],
      "metadata": {
        "id": "xsz65JIlO2Vj"
      }
    },
    {
      "cell_type": "code",
      "source": [
        "!tar -cvf val_dog_A5_one_json.zip /content/val_dog_A5_one_json"
      ],
      "metadata": {
        "id": "CsKl7Ce4O2Vj"
      },
      "execution_count": null,
      "outputs": []
    },
    {
      "cell_type": "code",
      "source": [
        ""
      ],
      "metadata": {
        "id": "0Ov-PCm0QZ8K"
      },
      "execution_count": null,
      "outputs": []
    },
    {
      "cell_type": "markdown",
      "source": [
        "# val_dog_A6"
      ],
      "metadata": {
        "id": "Z7ZF7s1hQahR"
      }
    },
    {
      "cell_type": "markdown",
      "source": [
        "## 폴더로 이동\n",
        "- /content/val_dog_A6_json_files"
      ],
      "metadata": {
        "id": "vZHFqIm9QahR"
      }
    },
    {
      "cell_type": "code",
      "source": [
        "%cd /content/val_dog_A6_json_files"
      ],
      "metadata": {
        "colab": {
          "base_uri": "https://localhost:8080/"
        },
        "outputId": "2ece60ca-9b5d-404b-cfdf-b31b1134a848",
        "id": "uKGCRq-jQahR"
      },
      "execution_count": 96,
      "outputs": [
        {
          "output_type": "stream",
          "name": "stdout",
          "text": [
            "/content/val_dog_A6_json_files\n"
          ]
        }
      ]
    },
    {
      "cell_type": "markdown",
      "source": [
        "## 전체 개수 확인\n",
        "- 763"
      ],
      "metadata": {
        "id": "XlumyTZJQahR"
      }
    },
    {
      "cell_type": "code",
      "source": [
        "%ls /content/val_dog_A6_json_files/*.json -l | grep ^- | wc -l"
      ],
      "metadata": {
        "outputId": "5bcc7e29-fc10-4a22-81a3-ba9d992f3bcb",
        "colab": {
          "base_uri": "https://localhost:8080/"
        },
        "id": "YU1KC0YbQahS"
      },
      "execution_count": 97,
      "outputs": [
        {
          "output_type": "stream",
          "name": "stdout",
          "text": [
            "763\n"
          ]
        }
      ]
    },
    {
      "cell_type": "markdown",
      "source": [
        "## box 두개 이상인 파일 개수 확인\n",
        "- 0"
      ],
      "metadata": {
        "id": "9lG-aho8QahS"
      }
    },
    {
      "cell_type": "code",
      "source": [
        "\n",
        "dupl_keys_files = []\n",
        "\n",
        "for filename in glob('/content/val_dog_A6_json_files/*.json'):\n",
        "    data = json.load(open(filename)) \n",
        "    labelingInfo = data['labelingInfo']\n",
        "    if len(labelingInfo) > 2:\n",
        "        dupl_keys_files.append(filename)\n",
        "    # print(labelingInfo)  \n",
        "len(dupl_keys_files)\n"
      ],
      "metadata": {
        "colab": {
          "base_uri": "https://localhost:8080/"
        },
        "outputId": "f63a69c4-b62b-41b0-af59-6e5971538125",
        "id": "JF0BSi9XQahS"
      },
      "execution_count": 98,
      "outputs": [
        {
          "output_type": "execute_result",
          "data": {
            "text/plain": [
              "0"
            ]
          },
          "metadata": {},
          "execution_count": 98
        }
      ]
    },
    {
      "cell_type": "markdown",
      "source": [
        "## box 두개 이상인 파일들 two_more 폴더로 이동\n",
        "- 폴더 미리 만들고 옮기기"
      ],
      "metadata": {
        "id": "BPSfeKglQahS"
      }
    },
    {
      "cell_type": "code",
      "source": [
        "import os\n",
        "import shutil\n",
        "\n",
        "for filename in dupl_keys_files:\n",
        "    shutil.move(filename, \"/content/val_dog_A6_two_json\")"
      ],
      "metadata": {
        "id": "lNQCwL5JQahS"
      },
      "execution_count": null,
      "outputs": []
    },
    {
      "cell_type": "markdown",
      "source": [
        "## 폴더명 one_json으로 변경\n",
        "- val_dog_A6_json_files -> val_dog_A6_one_json"
      ],
      "metadata": {
        "id": "smT_1pZIQahS"
      }
    },
    {
      "cell_type": "markdown",
      "source": [
        "## 이동 후 개수 확인\n",
        "- 763"
      ],
      "metadata": {
        "id": "ppnNphd6QahS"
      }
    },
    {
      "cell_type": "code",
      "source": [
        "%ls /content/val_dog_A6_one_json/*.json -l | grep ^- | wc -l"
      ],
      "metadata": {
        "outputId": "cb55a755-64be-4cc7-d11d-88c3080acbab",
        "colab": {
          "base_uri": "https://localhost:8080/"
        },
        "id": "aa1W_4uiQahS"
      },
      "execution_count": 99,
      "outputs": [
        {
          "output_type": "stream",
          "name": "stdout",
          "text": [
            "763\n"
          ]
        }
      ]
    },
    {
      "cell_type": "code",
      "source": [
        "from collections import defaultdict\n",
        "import json\n",
        "from glob import glob\n",
        "\n",
        "meta_label = defaultdict(list)\n",
        "for filename in glob('*.json'):\n",
        "    data = json.load(open(filename))\n",
        "    if len(data['labelingInfo']) > 2:\n",
        "            continue\n",
        "    meta_label[\"raw_data_ID\"].append(filename[:len(filename)-5])\n",
        "    meta_label[\"species\"].append(data['metaData'][\"species\"])\n",
        "    meta_label[\"lesions\"].append(data['metaData'][\"lesions\"])\n",
        "    meta_label[\"breed\"].append(data['metaData'][\"breed\"])\n",
        "    meta_label[\"age\"].append(data['metaData'][\"age\"])\n",
        "    meta_label[\"gender\"].append(data['metaData'][\"gender\"])\n",
        "    meta_label[\"region\"].append(data['metaData'][\"region\"])\n",
        "\n",
        "    # p_lotation = data['labelingInfo'][0]['polygon']['location'][0] # 'polygon' location\n",
        "    # for xys in list(p_lotation.keys()):\n",
        "    #     meta_label['polygon1_'+xys].append(p_lotation[xys])\n",
        "\n",
        "    b_lotation = data['labelingInfo'][1]['box']['location'][0] # 'box' location\n",
        "    for xys in list(b_lotation.keys()):\n",
        "        meta_label['box1_'+xys].append(b_lotation[xys])\n",
        "\n",
        "meta_label"
      ],
      "metadata": {
        "id": "FLtXRcmQQahT"
      },
      "execution_count": null,
      "outputs": []
    },
    {
      "cell_type": "markdown",
      "source": [
        "## json -> DataFrame -> csv로 변경후 gdrive에 저장\n",
        "- df 파일 꼭 확인해볼것 (행 개수)\n",
        "- gdrive에 저장 전에 꼭 파일명 확인"
      ],
      "metadata": {
        "id": "LGHO_cKHQahT"
      }
    },
    {
      "cell_type": "code",
      "source": [
        "import pandas as pd\n",
        "meta_label_df = pd.DataFrame(meta_label)\n",
        "# meta_label_df\n",
        "meta_label_df.to_csv('/gdrive/MyDrive/Petom/csv_files/val_dog_A6_one.csv')"
      ],
      "metadata": {
        "id": "0uqKcL_bQahT"
      },
      "execution_count": 102,
      "outputs": []
    },
    {
      "cell_type": "markdown",
      "source": [
        "## 분리한 json 따로 압축\n",
        "- _json_files 폴더명을 one_json으로 변경 후 압축\n",
        "- 구글 드라이브로 그냥 드래그해서 옮김"
      ],
      "metadata": {
        "id": "K-tGbDkMQahT"
      }
    },
    {
      "cell_type": "markdown",
      "source": [
        "## content 폴더로 이동"
      ],
      "metadata": {
        "id": "ywC9OD--QahT"
      }
    },
    {
      "cell_type": "code",
      "source": [
        "%cd ../"
      ],
      "metadata": {
        "outputId": "8beb76ec-a363-48a2-a2e8-c23896d9215a",
        "colab": {
          "base_uri": "https://localhost:8080/"
        },
        "id": "VwD7pc8-QahT"
      },
      "execution_count": 103,
      "outputs": [
        {
          "output_type": "stream",
          "name": "stdout",
          "text": [
            "/content\n"
          ]
        }
      ]
    },
    {
      "cell_type": "markdown",
      "source": [
        "## 파일명 양식 확인해서 tar로 압축\n",
        "- 파일명 꼭 확인"
      ],
      "metadata": {
        "id": "RUQlkuqLQahT"
      }
    },
    {
      "cell_type": "code",
      "source": [
        "!tar -cvf val_dog_A6_one_json.zip /content/val_dog_A6_one_json"
      ],
      "metadata": {
        "id": "wcuF1a0GQahT"
      },
      "execution_count": null,
      "outputs": []
    }
  ]
}